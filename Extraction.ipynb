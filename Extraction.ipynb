{
 "cells": [
  {
   "cell_type": "code",
   "execution_count": 7,
   "id": "fa64f356-e78f-4c34-b34b-21fce4d47f54",
   "metadata": {},
   "outputs": [],
   "source": [
    "import cv2\n",
    "import os\n",
    "import time"
   ]
  },
  {
   "cell_type": "code",
   "execution_count": 8,
   "id": "384c85ee-705a-41f5-ba1c-71f4e0a07c8a",
   "metadata": {},
   "outputs": [],
   "source": [
    "def video_deja_traitee(video):\n",
    "    nom_fichier_journal = \"journal.txt\"  # Chemin modifié pour être à la racine du dossier PROJETPFE\n",
    "    if not os.path.exists(nom_fichier_journal):\n",
    "        return False\n",
    "    with open(nom_fichier_journal, \"r\") as fichier:\n",
    "        for ligne in fichier:\n",
    "            if video in ligne:\n",
    "                return True\n",
    "    return False"
   ]
  },
  {
   "cell_type": "code",
   "execution_count": 9,
   "id": "ef50e2aa-edc3-4271-8420-a28bc94d8e9a",
   "metadata": {},
   "outputs": [],
   "source": [
    "def ajuster_luminosite(image, valeur=30):\n",
    "    \"\"\"Augmente la luminosité de l'image en ajoutant une valeur constante à tous les pixels.\"\"\"\n",
    "    hsv = cv2.cvtColor(image, cv2.COLOR_BGR2HSV)\n",
    "    h, s, v = cv2.split(hsv)\n",
    "    lim = 255 - valeur\n",
    "    v[v > lim] = 255\n",
    "    v[v <= lim] += valeur\n",
    "    hsv_final = cv2.merge((h, s, v))\n",
    "    image_finale = cv2.cvtColor(hsv_final, cv2.COLOR_HSV2BGR)\n",
    "    return image_finale"
   ]
  },
  {
   "cell_type": "code",
   "execution_count": 10,
   "id": "404989ac-0941-4a37-a5da-8dd3d57cf190",
   "metadata": {},
   "outputs": [],
   "source": [
    "def enregistrer_configuration_et_journal(video_traitee, intervalle):\n",
    "    \"\"\"\n",
    "    Enregistre les détails des vidéos traitées dans un fichier journal pour éviter de les retraiter.\n",
    "    \"\"\"\n",
    "    nom_fichier_journal = \"journal.txt\"  # Chemin modifié pour être à la racine du dossier PROJETPFE\n",
    "    with open(nom_fichier_journal, \"a\") as fichier:\n",
    "        fichier.write(f\"Vidéo traitée: {video_traitee}, Intervalle de capture: {intervalle} secondes, Date d'exécution: {time.strftime('%Y-%m-%d %H:%M:%S')}\\n\")\n"
   ]
  },
  {
   "cell_type": "code",
   "execution_count": 11,
   "id": "ed9b13a3-1a89-4adc-b6c5-6fc84b6512e4",
   "metadata": {},
   "outputs": [],
   "source": [
    "def extraire_images_dossier_videos(dossier_videos, dossier_images, intervalle=1):\n",
    "    if not os.path.exists(dossier_images):\n",
    "        os.makedirs(dossier_images)\n",
    "\n",
    "    for fichier in os.listdir(dossier_videos):\n",
    "        if fichier.endswith((\".mp4\", \".avi\")) and not video_deja_traitee(fichier):\n",
    "            chemin_video = os.path.join(dossier_videos, fichier)\n",
    "            cap = cv2.VideoCapture(chemin_video)\n",
    "            fps = cap.get(cv2.CAP_PROP_FPS)\n",
    "            frame_count = 0\n",
    "            success = True\n",
    "            \n",
    "            while success:\n",
    "                success, frame = cap.read()\n",
    "                if not success or frame is None:\n",
    "                    break\n",
    "                \n",
    "                if frame_count % (int(fps) * intervalle) == 0:\n",
    "                    frame_eclaircie = ajuster_luminosite(frame)\n",
    "                    nom_image = f\"image_{time.strftime('%Y%m%d_%H%M%S')}_{frame_count}.jpg\"\n",
    "                    chemin_image = os.path.join(dossier_images, nom_image)\n",
    "                    cv2.imwrite(chemin_image, frame_eclaircie)\n",
    "                \n",
    "                frame_count += 1\n",
    "            \n",
    "            cap.release()\n",
    "            enregistrer_configuration_et_journal(fichier, intervalle)\n",
    "    \n",
    "    print(\"Extraction et éclaircissement terminés.\")"
   ]
  },
  {
   "cell_type": "code",
   "execution_count": 12,
   "id": "b1200ff2-7e14-484d-975e-a8f0e97547da",
   "metadata": {
    "scrolled": true
   },
   "outputs": [
    {
     "name": "stdout",
     "output_type": "stream",
     "text": [
      "Extraction et éclaircissement terminés.\n"
     ]
    }
   ],
   "source": [
    "dossier_videos = 'VDS'  # Corrigez le nom si nécessaire\n",
    "dossier_images = 'data/TrainNV/images'  # Le dossier où vous souhaitez sauvegarder les images extraites\n",
    "extraire_images_dossier_videos(dossier_videos, dossier_images, intervalle=1)"
   ]
  },
  {
   "cell_type": "code",
   "execution_count": null,
   "id": "52d18dae-2e72-4bc7-a061-57ea9a6bbc0e",
   "metadata": {},
   "outputs": [],
   "source": []
  },
  {
   "cell_type": "code",
   "execution_count": null,
   "id": "45b00e01-ca53-4490-a185-31d8e97e0a51",
   "metadata": {},
   "outputs": [],
   "source": []
  }
 ],
 "metadata": {
  "kernelspec": {
   "display_name": "projpfe",
   "language": "python",
   "name": "projpfe"
  },
  "language_info": {
   "codemirror_mode": {
    "name": "ipython",
    "version": 3
   },
   "file_extension": ".py",
   "mimetype": "text/x-python",
   "name": "python",
   "nbconvert_exporter": "python",
   "pygments_lexer": "ipython3",
   "version": "3.8.10"
  }
 },
 "nbformat": 4,
 "nbformat_minor": 5
}
